{
 "cells": [
  {
   "cell_type": "markdown",
   "metadata": {},
   "source": [
    "## Step 03 Setup Snowflake\n",
    "\n",
    "During this step we will create our demo environment. Update the SQL variables below with your GitHub username and Personal Access Token (PAT) as well as with your forked GitHub repository information."
   ]
  },
  {
   "cell_type": "code",
   "execution_count": null,
   "metadata": {
    "vscode": {
     "languageId": "plaintext"
    }
   },
   "outputs": [],
   "source": [
    "SET MY_USER = CURRENT_USER();\n",
    "\n",
    "SET GITHUB_SECRET_USERNAME = 'ketki-mude';\n",
    "SET GITHUB_SECRET_PASSWORD = 'xxx';\n",
    "SET GITHUB_URL_PREFIX = 'https://github.com/ketki-mude';\n",
    "SET GITHUB_REPO_ORIGIN = 'https://github.com/ketki-mude/NOAA_Weather_Data.git';"
   ]
  },
  {
   "cell_type": "code",
   "execution_count": null,
   "metadata": {
    "vscode": {
     "languageId": "plaintext"
    }
   },
   "outputs": [],
   "source": [
    "-- ----------------------------------------------------------------------------\n",
    "-- Create the account level objects (ACCOUNTADMIN part)\n",
    "-- ----------------------------------------------------------------------------\n",
    "\n",
    "USE ROLE ACCOUNTADMIN;\n",
    "\n",
    "-- Roles\n",
    "CREATE OR REPLACE ROLE NOAA_ROLE;\n",
    "GRANT ROLE NOAA_ROLE TO ROLE SYSADMIN;\n",
    "GRANT ROLE NOAA_ROLE TO USER IDENTIFIER($MY_USER);\n",
    "\n",
    "GRANT CREATE INTEGRATION ON ACCOUNT TO ROLE NOAA_ROLE;\n",
    "GRANT EXECUTE TASK ON ACCOUNT TO ROLE NOAA_ROLE;\n",
    "GRANT EXECUTE MANAGED TASK ON ACCOUNT TO ROLE NOAA_ROLE;\n",
    "GRANT MONITOR EXECUTION ON ACCOUNT TO ROLE NOAA_ROLE;\n",
    "GRANT IMPORTED PRIVILEGES ON DATABASE SNOWFLAKE TO ROLE NOAA_ROLE;\n",
    "\n",
    "-- Databases\n",
    "CREATE OR REPLACE DATABASE NOAA_DB;\n",
    "GRANT OWNERSHIP ON DATABASE NOAA_DB TO ROLE NOAA_ROLE;\n",
    "\n",
    "-- Warehouses\n",
    "CREATE OR REPLACE WAREHOUSE NOAA_WH WAREHOUSE_SIZE = XSMALL, AUTO_SUSPEND = 300, AUTO_RESUME= TRUE;\n",
    "GRANT OWNERSHIP ON WAREHOUSE NOAA_WH TO ROLE NOAA_ROLE;"
   ]
  },
  {
   "cell_type": "code",
   "execution_count": null,
   "metadata": {
    "vscode": {
     "languageId": "plaintext"
    }
   },
   "outputs": [],
   "source": [
    "-- ----------------------------------------------------------------------------\n",
    "-- Create the database level objects\n",
    "-- ----------------------------------------------------------------------------\n",
    "USE ROLE ACCOUNTADMIN;\n",
    "USE WAREHOUSE NOAA_WH;\n",
    "USE DATABASE NOAA_DB;\n",
    "\n",
    "-- Schemas\n",
    "CREATE OR REPLACE SCHEMA INTEGRATIONS;\n",
    "CREATE OR REPLACE SCHEMA DEV_SCHEMA;\n",
    "CREATE OR REPLACE SCHEMA PROD_SCHEMA;\n",
    "CREATE OR REPLACE SCHEMA DEV_HARMONIZED_SCHEMA;\n",
    "CREATE OR REPLACE SCHEMA DEV_ANALYTICS_SCHEMA;\n",
    "CREATE OR REPLACE SCHEMA DEV_HARMONIZED_SCHEMA;\n",
    "CREATE OR REPLACE SCHEMA DEV_ANALYTICS_SCHEMA;\n",
    "\n",
    "USE SCHEMA INTEGRATIONS;\n",
    "\n",
    "-- Secrets (schema level)\n",
    "CREATE OR REPLACE SECRET DEMO_GITHUB_SECRET\n",
    "  TYPE = password\n",
    "  USERNAME = $GITHUB_SECRET_USERNAME\n",
    "  PASSWORD = $GITHUB_SECRET_PASSWORD;\n",
    "\n",
    "-- API Integration (account level)\n",
    "-- This depends on the schema level secret!\n",
    "CREATE OR REPLACE API INTEGRATION DEMO_GITHUB_API_INTEGRATION\n",
    "  API_PROVIDER = GIT_HTTPS_API\n",
    "  API_ALLOWED_PREFIXES = ($GITHUB_URL_PREFIX)\n",
    "  ALLOWED_AUTHENTICATION_SECRETS = (DEMO_GITHUB_SECRET)\n",
    "  ENABLED = TRUE;\n",
    "\n",
    "-- Git Repository\n",
    "CREATE OR REPLACE GIT REPOSITORY DEMO_GIT_REPO\n",
    "  API_INTEGRATION = DEMO_GITHUB_API_INTEGRATION\n",
    "  GIT_CREDENTIALS = DEMO_GITHUB_SECRET\n",
    "  ORIGIN = $GITHUB_REPO_ORIGIN;"
   ]
  },
  {
   "cell_type": "code",
   "execution_count": null,
   "metadata": {
    "vscode": {
     "languageId": "plaintext"
    }
   },
   "outputs": [],
   "source": [
    "-- Step 1: Use the appropriate warehouse, database, and schema\n",
    "USE ROLE ACCOUNTADMIN;\n",
    "USE WAREHOUSE NOAA_WH;\n",
    "USE DATABASE NOAA_DB;\n",
    "\n",
    "-- Step 2: Create the EXTERNAL schema\n",
    "CREATE OR REPLACE SCHEMA EXTERNAL;\n",
    "\n",
    "-- Step 3: Create an external stage for the NOAA data in S3\n",
    "CREATE OR REPLACE STORAGE INTEGRATION noaa_s3_integration\n",
    "  TYPE = EXTERNAL_STAGE\n",
    "  STORAGE_PROVIDER = 'S3'\n",
    "  ENABLED = TRUE\n",
    "  STORAGE_AWS_ROLE_ARN = 'arn:aws:iam::908027397718:role/snowflake_role'\n",
    "  STORAGE_ALLOWED_LOCATIONS = ('s3://noaaclimatedata/weatherData/');\n",
    "\n",
    "-- Step 4: Grant access to the stage and schema\n",
    "GRANT USAGE ON INTEGRATION noaa_s3_integration TO ROLE NOAA_ROLE;\n",
    "GRANT USAGE ON SCHEMA EXTERNAL TO ROLE NOAA_ROLE;\n",
    "GRANT ALL PRIVILEGES ON SCHEMA NOAA_DB.EXTERNAL TO ROLE NOAA_ROLE;\n",
    "\n",
    "USE ROLE NOAA_ROLE;\n",
    "USE WAREHOUSE NOAA_WH;\n",
    "USE DATABASE NOAA_DB;\n",
    "USE SCHEMA EXTERNAL;\n",
    "\n",
    "-- Step 5: Create the file format for CSV files in the external stage\n",
    "CREATE OR REPLACE FILE FORMAT CSV_FORMAT \n",
    "  TYPE = 'CSV' \n",
    "  FIELD_OPTIONALLY_ENCLOSED_BY = '\"' \n",
    "  PARSE_HEADER = TRUE;\n"
   ]
  },
  {
   "cell_type": "markdown",
   "metadata": {},
   "source": [
    "## Step 04 Deploy to Dev\n",
    "\n",
    "Finally we will use `EXECUTE IMMEDIATE FROM <file>` along with Jinja templating to deploy the Dev version of our Notebooks. We will directly execute the SQL script `scripts/deploy_notebooks.sql` from our Git repository which has the SQL commands to deploy a Notebook from a Git repo."
   ]
  },
  {
   "cell_type": "code",
   "execution_count": null,
   "metadata": {
    "vscode": {
     "languageId": "plaintext"
    }
   },
   "outputs": [],
   "source": [
    "USE ROLE NOAA_ROLE;\n",
    "USE WAREHOUSE NOAA_WH;\n",
    "USE SCHEMA NOAA_DB.INTEGRATIONS;\n",
    "\n",
    "EXECUTE IMMEDIATE FROM @DEMO_GIT_REPO/branches/main/scripts/deploy_notebooks.sql\n",
    "    USING (env => 'DEV', branch => 'dev');"
   ]
  },
  {
   "cell_type": "markdown",
   "metadata": {},
   "source": [
    "## Step 05 Load Weather from S3 to Snowflake s3"
   ]
  }
 ],
 "metadata": {
  "language_info": {
   "name": "python"
  }
 },
 "nbformat": 4,
 "nbformat_minor": 2
}
