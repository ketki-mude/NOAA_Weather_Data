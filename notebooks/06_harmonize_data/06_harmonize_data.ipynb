{
 "cells": [
  {
   "cell_type": "code",
   "execution_count": null,
   "metadata": {
    "vscode": {
     "languageId": "plaintext"
    }
   },
   "outputs": [],
   "source": [
    "import os\n",
    "from snowflake.snowpark import Session\n",
    "import snowflake.snowpark.functions as F\n",
    "\n",
    "\n",
    "def table_exists(session, schema='', name=''):\n",
    "    \"\"\"Check if a table exists in the schema.\"\"\"\n",
    "    exists = session.sql(f\"\"\"\n",
    "        SELECT EXISTS (SELECT * FROM INFORMATION_SCHEMA.TABLES \n",
    "        WHERE TABLE_SCHEMA = '{schema}' AND TABLE_NAME = '{name}') AS TABLE_EXISTS\n",
    "    \"\"\").collect()[0]['TABLE_EXISTS']\n",
    "    return exists\n",
    "\n",
    "\n",
    "def create_weather_table(session):\n",
    "    \"\"\"Create NOAA weather data table if it doesn't exist.\"\"\"\n",
    "    session.sql(\"\"\"\n",
    "        CREATE OR REPLACE TABLE WEATHER_DATA (\n",
    "            DATE TIMESTAMP,\n",
    "            ZIP_CODE STRING,\n",
    "            STATION STRING,\n",
    "            TEMPERATURE FLOAT,\n",
    "            META_UPDATED_AT TIMESTAMP\n",
    "        );\n",
    "    \"\"\").collect()\n",
    "\n",
    "\n",
    "def create_weather_stream(session):\n",
    "    \"\"\"Create a Snowflake stream for incremental changes.\"\"\"\n",
    "    session.sql(\"\"\"\n",
    "        CREATE OR REPLACE STREAM WEATHER_STREAM ON TABLE WEATHER_DATA;\n",
    "    \"\"\").collect()\n",
    "\n",
    "\n",
    "def merge_weather_updates(session):\n",
    "    \"\"\"Merge new weather data into the main table.\"\"\"\n",
    "    session.sql(\"ALTER WAREHOUSE HOL_WH SET WAREHOUSE_SIZE = XLARGE WAIT_FOR_COMPLETION = TRUE\").collect()\n",
    "\n",
    "    source = session.table(\"WEATHER_STREAM\")\n",
    "    target = session.table(\"WEATHER_DATA\")\n",
    "\n",
    "    updates = {\n",
    "        \"DATE\": source[\"DATE\"],\n",
    "        \"ZIP_CODE\": source[\"ZIP_CODE\"],\n",
    "        \"STATION\": source[\"STATION\"],\n",
    "        \"TEMPERATURE\": source[\"TEMPERATURE\"],\n",
    "        \"META_UPDATED_AT\": F.current_timestamp()\n",
    "    }\n",
    "\n",
    "    target.merge(source, target[\"DATE\"] == source[\"DATE\"], [\n",
    "        F.when_matched().update(updates),\n",
    "        F.when_not_matched().insert(updates)\n",
    "    ])\n",
    "\n",
    "    session.sql(\"ALTER WAREHOUSE HOL_WH SET WAREHOUSE_SIZE = XSMALL\").collect()\n",
    "\n",
    "\n",
    "def main(session: Session) -> str:\n",
    "    \"\"\"Main function to create tables, process weather data, and merge updates.\"\"\"\n",
    "    if not table_exists(session, schema=\"PUBLIC\", name=\"WEATHER_DATA\"):\n",
    "        create_weather_table(session)\n",
    "        create_weather_stream(session)\n",
    "\n",
    "    merge_weather_updates(session)\n",
    "\n",
    "    return \"Successfully processed NOAA Weather Data\"\n",
    "\n",
    "\n",
    "# For local debugging\n",
    "# Be aware you may need to type-convert arguments if you add input parameters\n",
    "if __name__ == '__main__':\n",
    "    # Create a local Snowpark session\n",
    "    with Session.builder.getOrCreate() as session:\n",
    "        import sys\n",
    "        if len(sys.argv) > 1:\n",
    "            print(main(session, *sys.argv[1:]))  # type: ignore\n",
    "        else:\n",
    "            print(main(session))  # type: ignore"
   ]
  },
  {
   "cell_type": "code",
   "execution_count": null,
   "metadata": {
    "vscode": {
     "languageId": "plaintext"
    }
   },
   "outputs": [],
   "source": [
    "if __name__ == '__main__':\n",
    "    with Session.builder.getOrCreate() as session:\n",
    "        import sys\n",
    "        print(main(session))"
   ]
  }
 ],
 "metadata": {
  "language_info": {
   "name": "python"
  }
 },
 "nbformat": 4,
 "nbformat_minor": 2
}
