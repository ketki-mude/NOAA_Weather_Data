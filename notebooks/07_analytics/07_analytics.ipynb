{
 "cells": [
  {
   "cell_type": "markdown",
   "metadata": {},
   "source": [
    "### Python udf"
   ]
  },
  {
   "cell_type": "code",
   "execution_count": null,
   "metadata": {
    "vscode": {
     "languageId": "plaintext"
    }
   },
   "outputs": [],
   "source": [
    "import sys\n",
    "from scipy.constants import convert_temperature\n",
    "\n",
    "def main(temp_c: float) -> float:\n",
    "    \"\"\"Convert Celsius to Fahrenheit using scipy.\"\"\"\n",
    "    return convert_temperature(float(temp_c), 'C', 'F')\n",
    "\n",
    "\n",
    "# For local debugging\n",
    "if __name__ == '__main__':\n",
    "    if len(sys.argv) > 1:\n",
    "        print(main(float(sys.argv[1])))  # Convert input\n",
    "    else:\n",
    "        print(\"Please provide a temperature value in Celsius.\")\n"
   ]
  },
  {
   "cell_type": "markdown",
   "metadata": {},
   "source": [
    "## register udf"
   ]
  },
  {
   "cell_type": "code",
   "execution_count": null,
   "metadata": {
    "vscode": {
     "languageId": "plaintext"
    }
   },
   "outputs": [],
   "source": [
    "CREATE OR REPLACE FUNCTION convert_celsius_to_fahrenheit(temp FLOAT)\n",
    "RETURNS FLOAT\n",
    "LANGUAGE PYTHON\n",
    "RUNTIME_VERSION = '3.8'\n",
    "HANDLER = 'main'\n",
    "PACKAGES = ('scipy')\n",
    "AS\n",
    "$$\n",
    "import sys\n",
    "from scipy.constants import convert_temperature\n",
    "\n",
    "def main(temp_c: float) -> float:\n",
    "    return convert_temperature(float(temp_c), 'C', 'F')\n",
    "$$;\n"
   ]
  },
  {
   "cell_type": "markdown",
   "metadata": {},
   "source": [
    "### Sql udf"
   ]
  },
  {
   "cell_type": "code",
   "execution_count": null,
   "metadata": {
    "vscode": {
     "languageId": "plaintext"
    }
   },
   "outputs": [],
   "source": [
    "CREATE OR REPLACE FUNCTION categorize_temperature(temp FLOAT)\n",
    "RETURNS STRING\n",
    "LANGUAGE SQL\n",
    "AS \n",
    "$$\n",
    "    CASE \n",
    "        WHEN temp < 0 THEN 'Freezing'\n",
    "        WHEN temp BETWEEN 0 AND 10 THEN 'Cold'\n",
    "        WHEN temp BETWEEN 11 AND 25 THEN 'Mild'\n",
    "        WHEN temp BETWEEN 26 AND 35 THEN 'Warm'\n",
    "        ELSE 'Hot'\n",
    "    END\n",
    "$$;"
   ]
  },
  {
   "cell_type": "code",
   "execution_count": null,
   "metadata": {
    "vscode": {
     "languageId": "plaintext"
    }
   },
   "outputs": [],
   "source": [
    "#------------------------------------------------------------------------------\n",
    "# Hands-On Lab: Data Engineering with Snowpark\n",
    "# Script:       07_daily_metrics_process_sp/app.py\n",
    "# Author:       Jeremiah Hansen, Caleb Baechtold\n",
    "# Last Updated: 1/9/2023\n",
    "#------------------------------------------------------------------------------\n",
    "\n",
    "import time\n",
    "from snowflake.snowpark import Session\n",
    "import snowflake.snowpark.types as T\n",
    "import snowflake.snowpark.functions as F\n",
    "\n",
    "\n",
    "def table_exists(session, schema='', name=''):\n",
    "    exists = session.sql(\"SELECT EXISTS (SELECT * FROM INFORMATION_SCHEMA.TABLES WHERE TABLE_SCHEMA = '{}' AND TABLE_NAME = '{}') AS TABLE_EXISTS\".format(schema, name)).collect()[0]['TABLE_EXISTS']\n",
    "    return exists\n",
    "\n",
    "def create_daily_metrics_table(session):\n",
    "    SHARED_COLUMNS= [T.StructField(\"DATE\", T.DateType()),\n",
    "                                        T.StructField(\"ZIP_CODE\", T.StringType()),\n",
    "                                        T.StructField(\"STATION\", T.StringType()),\n",
    "                                        T.StructField(\"AVG_TEMPERATURE_FAHRENHEIT\", T.DecimalType()),\n",
    "                                        T.StructField(\"AVG_TEMPERATURE_CELSIUS\", T.DecimalType()),\n",
    "                                    ]\n",
    "    DAILY_METRICS_COLUMNS = [*SHARED_COLUMNS, T.StructField(\"META_UPDATED_AT\", T.TimestampType())]\n",
    "    DAILY_METRICS_SCHEMA = T.StructType(DAILY_METRICS_COLUMNS)\n",
    "\n",
    "    dcm = session.create_dataframe([[None]*len(DAILY_METRICS_SCHEMA.names)], schema=DAILY_METRICS_SCHEMA) \\\n",
    "                        .na.drop() \\\n",
    "                        .write.mode('overwrite').save_as_table('ANALYTICS.DAILY_METRICS')\n",
    "    dcm = session.table('ANALYTICS.DAILY_METRICS')\n",
    "\n",
    "\n",
    "def merge_daily_metrics(session):\n",
    "    _ = session.sql('ALTER WAREHOUSE HOL_WH SET WAREHOUSE_SIZE = XLARGE WAIT_FOR_COMPLETION = TRUE').collect()\n",
    "\n",
    "    weather = session.table(\"PUBLIC.WEATHER_DATA\")\n",
    "\n",
    "    weather_agg = weather.group_by(F.col('DATE'), F.col('ZIP_CODE'), F.col('STATION')) \\\n",
    "                        .agg( \\\n",
    "                            F.avg('TEMPERATURE').alias(\"AVG_TEMPERATURE_F\"), \\\n",
    "                            F.avg(F.call_udf(\"ANALYTICS.FAHRENHEIT_TO_CELSIUS_UDF\", F.col(\"TEMPERATURE\"))).alias(\"AVG_TEMPERATURE_C\"), \\\n",
    "                        ) \\\n",
    "                        .select(F.col(\"DATE\"), F.col(\"ZIP_CODE\"), F.col(\"STATION\"), \\\n",
    "                            F.round(F.col(\"AVG_TEMPERATURE_F\"), 2).alias(\"AVG_TEMPERATURE_FAHRENHEIT\"), \\\n",
    "                            F.round(F.col(\"AVG_TEMPERATURE_C\"), 2).alias(\"AVG_TEMPERATURE_CELSIUS\")\n",
    "                            )\n",
    "#    weather_agg.limit(5).show()\n",
    "\n",
    "    cols_to_update = {c: weather_agg[c] for c in weather_agg.schema.names}\n",
    "    metadata_col_to_update = {\"META_UPDATED_AT\": F.current_timestamp()}\n",
    "    updates = {**cols_to_update, **metadata_col_to_update}\n",
    "\n",
    "    dcm = session.table('ANALYTICS.DAILY_METRICS')\n",
    "    dcm.merge(weather_agg, (dcm['DATE'] == weather_agg['DATE']) & (dcm['ZIP_CODE'] == weather_agg['ZIP_CODE']) & (dcm['STATION'] == weather_agg['STATION']), \\\n",
    "                        [F.when_matched().update(updates), F.when_not_matched().insert(updates)])\n",
    "\n",
    "    _ = session.sql('ALTER WAREHOUSE HOL_WH SET WAREHOUSE_SIZE = XSMALL').collect()\n",
    "\n",
    "def main(session: Session) -> str:\n",
    "    # Create the DAILY_METRICS table if it doesn't exist\n",
    "    if not table_exists(session, schema='ANALYTICS', name='DAILY_METRICS'):\n",
    "        create_daily_metrics_table(session)\n",
    "    \n",
    "    merge_daily_metrics(session)\n",
    "#    session.table('ANALYTICS.DAILY_METRICS').limit(5).show()\n",
    "\n",
    "    return f\"Successfully processed DAILY_METRICS\"\n",
    "\n",
    "\n",
    "# For local debugging\n",
    "# Be aware you may need to type-convert arguments if you add input parameters\n",
    "if __name__ == '__main__':\n",
    "    # Create a local Snowpark session\n",
    "    with Session.builder.getOrCreate() as session:\n",
    "        import sys\n",
    "        if len(sys.argv) > 1:\n",
    "            print(main(session, *sys.argv[1:]))  # type: ignore\n",
    "        else:\n",
    "            print(main(session))  # type: ignore"
   ]
  }
 ],
 "metadata": {
  "language_info": {
   "name": "python"
  }
 },
 "nbformat": 4,
 "nbformat_minor": 2
}
